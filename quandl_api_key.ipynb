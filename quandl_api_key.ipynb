{
 "cells": [
  {
   "cell_type": "code",
   "execution_count": 57,
   "id": "6632d64e-5c5f-478a-8254-6ea5b7c7f14a",
   "metadata": {
    "tags": []
   },
   "outputs": [],
   "source": [
    "import os\n",
    "import requests \n",
    "import json\n"
   ]
  },
  {
   "cell_type": "code",
   "execution_count": 51,
   "id": "7d4261ca-2980-4302-83a6-20b462a87443",
   "metadata": {},
   "outputs": [],
   "source": [
    "from dotenv import load_dotenv\n",
    "\n",
    "\n",
    "# Load .env file using:\n",
    "from dotenv import load_dotenv\n",
    "\n",
    "\n",
    "\n",
    "\n",
    "\n"
   ]
  },
  {
   "cell_type": "code",
   "execution_count": 36,
   "id": "9f2ce949-4d38-4bb4-b9ff-f9d9f66d6d2e",
   "metadata": {},
   "outputs": [
    {
     "data": {
      "text/plain": [
       "True"
      ]
     },
     "execution_count": 36,
     "metadata": {},
     "output_type": "execute_result"
    }
   ],
   "source": [
    "load_dotenv()"
   ]
  },
  {
   "cell_type": "code",
   "execution_count": 43,
   "id": "d7de5a20-d9a8-46bb-b073-62724ced7ab8",
   "metadata": {},
   "outputs": [],
   "source": [
    "quandl_api_key = os.getenv(\"QUANDL_API_KEY\")\n"
   ]
  },
  {
   "cell_type": "code",
   "execution_count": 44,
   "id": "0e58444f-9041-4de0-b099-54db4fa895b4",
   "metadata": {},
   "outputs": [
    {
     "data": {
      "text/plain": [
       "str"
      ]
     },
     "execution_count": 44,
     "metadata": {},
     "output_type": "execute_result"
    }
   ],
   "source": [
    "type(quandl_api_key)\n"
   ]
  },
  {
   "cell_type": "code",
   "execution_count": 45,
   "id": "7260331e-75ac-46a5-9c22-8db72bab98d9",
   "metadata": {},
   "outputs": [],
   "source": [
    "request_url = \"https://www.quandl.com/api/v3/datasets/WIKI/MSFT.json?limit=10&api_key=\""
   ]
  },
  {
   "cell_type": "code",
   "execution_count": 48,
   "id": "6480de3c-bcf3-4008-86bf-4ecc3436107d",
   "metadata": {},
   "outputs": [],
   "source": [
    "# Concatenate request_url and quandl_api_key and store as a new variable\n",
    "quandl_request_url = request_url + quandl_api_key"
   ]
  },
  {
   "cell_type": "code",
   "execution_count": 52,
   "id": "31cb241a-1ee7-40ab-a36e-c179548ebbed",
   "metadata": {},
   "outputs": [],
   "source": [
    "# Execute the API call to Quandl using requests.get\n",
    "response = requests.get(quandl_request_url).json()"
   ]
  },
  {
   "cell_type": "code",
   "execution_count": 55,
   "id": "423b1f5c-371b-462b-8cc6-0661ad341232",
   "metadata": {},
   "outputs": [
    {
     "name": "stdout",
     "output_type": "stream",
     "text": [
      "{\n",
      "    \"dataset\": {\n",
      "        \"collapse\": null,\n",
      "        \"column_index\": null,\n",
      "        \"column_names\": [\n",
      "            \"Date\",\n",
      "            \"Open\",\n",
      "            \"High\",\n",
      "            \"Low\",\n",
      "            \"Close\",\n",
      "            \"Volume\",\n",
      "            \"Ex-Dividend\",\n",
      "            \"Split Ratio\",\n",
      "            \"Adj. Open\",\n",
      "            \"Adj. High\",\n",
      "            \"Adj. Low\",\n",
      "            \"Adj. Close\",\n",
      "            \"Adj. Volume\"\n",
      "        ],\n",
      "        \"data\": [\n",
      "            [\n",
      "                \"2018-03-27\",\n",
      "                94.94,\n",
      "                95.139,\n",
      "                88.51,\n",
      "                89.47,\n",
      "                53704562.0,\n",
      "                0.0,\n",
      "                1.0,\n",
      "                94.94,\n",
      "                95.139,\n",
      "                88.51,\n",
      "                89.47,\n",
      "                53704562.0\n",
      "            ],\n",
      "            [\n",
      "                \"2018-03-26\",\n",
      "                90.61,\n",
      "                94.0,\n",
      "                90.4,\n",
      "                93.78,\n",
      "                55031149.0,\n",
      "                0.0,\n",
      "                1.0,\n",
      "                90.61,\n",
      "                94.0,\n",
      "                90.4,\n",
      "                93.78,\n",
      "                55031149.0\n",
      "            ],\n",
      "            [\n",
      "                \"2018-03-23\",\n",
      "                89.5,\n",
      "                90.46,\n",
      "                87.08,\n",
      "                87.18,\n",
      "                42159397.0,\n",
      "                0.0,\n",
      "                1.0,\n",
      "                89.5,\n",
      "                90.46,\n",
      "                87.08,\n",
      "                87.18,\n",
      "                42159397.0\n",
      "            ],\n",
      "            [\n",
      "                \"2018-03-22\",\n",
      "                91.265,\n",
      "                91.75,\n",
      "                89.66,\n",
      "                89.79,\n",
      "                37578166.0,\n",
      "                0.0,\n",
      "                1.0,\n",
      "                91.265,\n",
      "                91.75,\n",
      "                89.66,\n",
      "                89.79,\n",
      "                37578166.0\n",
      "            ],\n",
      "            [\n",
      "                \"2018-03-21\",\n",
      "                92.93,\n",
      "                94.05,\n",
      "                92.21,\n",
      "                92.48,\n",
      "                23753263.0,\n",
      "                0.0,\n",
      "                1.0,\n",
      "                92.93,\n",
      "                94.05,\n",
      "                92.21,\n",
      "                92.48,\n",
      "                23753263.0\n",
      "            ],\n",
      "            [\n",
      "                \"2018-03-20\",\n",
      "                93.05,\n",
      "                93.77,\n",
      "                93.0,\n",
      "                93.13,\n",
      "                21787780.0,\n",
      "                0.0,\n",
      "                1.0,\n",
      "                93.05,\n",
      "                93.77,\n",
      "                93.0,\n",
      "                93.13,\n",
      "                21787780.0\n",
      "            ],\n",
      "            [\n",
      "                \"2018-03-19\",\n",
      "                93.74,\n",
      "                93.9,\n",
      "                92.11,\n",
      "                92.89,\n",
      "                31752589.0,\n",
      "                0.0,\n",
      "                1.0,\n",
      "                93.74,\n",
      "                93.9,\n",
      "                92.11,\n",
      "                92.89,\n",
      "                31752589.0\n",
      "            ],\n",
      "            [\n",
      "                \"2018-03-16\",\n",
      "                94.68,\n",
      "                95.38,\n",
      "                93.92,\n",
      "                94.6,\n",
      "                47329521.0,\n",
      "                0.0,\n",
      "                1.0,\n",
      "                94.68,\n",
      "                95.38,\n",
      "                93.92,\n",
      "                94.6,\n",
      "                47329521.0\n",
      "            ],\n",
      "            [\n",
      "                \"2018-03-15\",\n",
      "                93.53,\n",
      "                94.58,\n",
      "                92.83,\n",
      "                94.18,\n",
      "                26279014.0,\n",
      "                0.0,\n",
      "                1.0,\n",
      "                93.53,\n",
      "                94.58,\n",
      "                92.83,\n",
      "                94.18,\n",
      "                26279014.0\n",
      "            ],\n",
      "            [\n",
      "                \"2018-03-14\",\n",
      "                95.12,\n",
      "                95.41,\n",
      "                93.5,\n",
      "                93.85,\n",
      "                31576898.0,\n",
      "                0.0,\n",
      "                1.0,\n",
      "                95.12,\n",
      "                95.41,\n",
      "                93.5,\n",
      "                93.85,\n",
      "                31576898.0\n",
      "            ]\n",
      "        ],\n",
      "        \"database_code\": \"WIKI\",\n",
      "        \"database_id\": 4922,\n",
      "        \"dataset_code\": \"MSFT\",\n",
      "        \"description\": \"End of day open, high, low, close and volume, dividends and splits, and split/dividend adjusted open, high, low close and volume for Microsoft Corporation (MSFT). Ex-Dividend is non-zero on ex-dividend dates. Split Ratio is 1 on non-split dates. Adjusted prices are calculated per CRSP (www.crsp.com/products/documentation/crsp-calculations)\\n\\nThis data is in the public domain. You may copy, distribute, disseminate or include the data in other products for commercial and/or noncommercial purposes.\\n\\nThis data is part of Quandl's Wiki initiative to get financial data permanently into the public domain. Quandl relies on users like you to flag errors and provide data where data is wrong or missing. Get involved: connect@quandl.com\\n\",\n",
      "        \"end_date\": \"2018-03-27\",\n",
      "        \"frequency\": \"daily\",\n",
      "        \"id\": 9775827,\n",
      "        \"limit\": 10,\n",
      "        \"name\": \"Microsoft Corporation (MSFT) Prices, Dividends, Splits and Trading Volume\",\n",
      "        \"newest_available_date\": \"2018-03-27\",\n",
      "        \"oldest_available_date\": \"1986-03-13\",\n",
      "        \"order\": null,\n",
      "        \"premium\": false,\n",
      "        \"refreshed_at\": \"2018-03-27T21:46:11.788Z\",\n",
      "        \"start_date\": \"1986-03-13\",\n",
      "        \"transform\": null,\n",
      "        \"type\": \"Time Series\"\n",
      "    }\n",
      "}\n"
     ]
    }
   ],
   "source": [
    "print(json.dumps(response, indent=4, sort_keys=True))"
   ]
  },
  {
   "cell_type": "code",
   "execution_count": null,
   "id": "9c5f91f5-21aa-418d-9495-ee93cc23cbe2",
   "metadata": {},
   "outputs": [],
   "source": []
  }
 ],
 "metadata": {
  "kernelspec": {
   "display_name": "dev",
   "language": "python",
   "name": "dev"
  },
  "language_info": {
   "codemirror_mode": {
    "name": "ipython",
    "version": 3
   },
   "file_extension": ".py",
   "mimetype": "text/x-python",
   "name": "python",
   "nbconvert_exporter": "python",
   "pygments_lexer": "ipython3",
   "version": "3.7.11"
  }
 },
 "nbformat": 4,
 "nbformat_minor": 5
}

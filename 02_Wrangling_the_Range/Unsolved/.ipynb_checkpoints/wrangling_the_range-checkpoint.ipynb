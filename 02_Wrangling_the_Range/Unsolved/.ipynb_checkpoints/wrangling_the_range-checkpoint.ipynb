{
 "cells": [
  {
   "cell_type": "markdown",
   "metadata": {},
   "source": [
    "# Wrangling the Range\n",
    "\n",
    "In this activity, you’ll calculate a range of possible performance outcomes by using confidence intervals and the related z-scores.\n",
    "\n",
    "Instructions:\n",
    "\n",
    "1. Create an environment file (`.env`) in the root of the `Unsolved` folder. This file will hold your Alpaca API and secret keys.\n",
    "\n",
    "2. Load the Alpaca API and secret keys into `decisive_distributions.ipynb`, and set the values equal to variables of the same name.\n",
    "\n",
    "3. Create the Alpaca API `REST` object by calling the Alpaca `tradeapi.REST` function and setting `alpaca_api_key`, `alpaca_secret_key`, and `api_version`.\n",
    "\n",
    "4. Use the Alpaca SDK to make an API call that gets one year of daily stock information (from 2019-05-01 to 2020-05-01) for the following stock tickers:\n",
    "\n",
    "    - `SPY` (SPDR S&P 500 ETF Trust)\n",
    "\n",
    "    - `V` (Visa)\n",
    "\n",
    "    - `SQ` (Square, Inc.)\n",
    "\n",
    "    - `GS` (Goldman Sachs)\n",
    " \n",
    "> **Hint** Remember to set the tickers, time frame, start and end dates (‘2019-05-01’ and ‘2020-05-01’) and the number of rows returned. Then use the Alpaca `get_bars` function to make the API call. Be sure to set the `df` property at the end of the `get_bars` function so that the API response is returned as a DataFrame.\n",
    "\n",
    "5. Create a new DataFrame that holds the closing prices of each stock.\n",
    "\n",
    "> **Hint** Use both the head and tail functions to display the first five and the last five rows of the DataFrame. You need the price of each stock on the last day of the period for later use in your confidence interval calculations.\n",
    "\n",
    "6. Generate a daily returns DataFrame that’s based on the closing prices of each stock.\n",
    "\n",
    "7. Generate the summary statistics for the daily returns DataFrame. This provides your first review of the distribution information for your stocks.\n",
    "\n",
    "8. Visualize the distribution of the daily returns DataFrame by creating a histogram plot and a density plot.\n",
    "\n",
    "> **Hint** Generate only two plots. Both the histogram and the density plot will show the data for all four stocks.\n",
    "\n",
    "9. Based on your calculations and plots, answer the following questions: Which is the least volatile stock in the group? Which is the most volatile?\n",
    "\n",
    "10. With a 95% confidence level, calculate the downside and upside performance expectations for both SPY and V based on the mean and standard deviation values.\n",
    "\n",
    "11. With a 99% level of confidence, calculate the downside and upside performance expectations for both SQ and GS based on the mean and standard deviation values. \n",
    "\n",
    "12. Identify the lower and upper performance bounds for the start of each tail for SPY and SQ stocks. Note that the tail risk occurs when the performance measures outside the 99.7% confidence interval.\n",
    "\n",
    "\n",
    "References:\n",
    "\n",
    "[Alpaca API Docs](https://alpaca.markets/docs/api-documentation/)\n",
    "\n",
    "[Pandas Histogram plot](https://pandas.pydata.org/pandas-docs/stable/reference/api/pandas.DataFrame.hist.html)\n",
    "\n",
    "[Pandas Density plot](https://pandas.pydata.org/pandas-docs/stable/reference/api/pandas.DataFrame.plot.density.html)\n",
    "\n"
   ]
  },
  {
   "cell_type": "markdown",
   "metadata": {},
   "source": [
    "## Import the required libraries and dependencies"
   ]
  },
  {
   "cell_type": "code",
   "execution_count": 1,
   "metadata": {
    "tags": []
   },
   "outputs": [],
   "source": [
    "# Import the required libraries and dependencies\n",
    "import os\n",
    "import requests\n",
    "import pandas as pd\n",
    "from dotenv import load_dotenv\n",
    "import alpaca_trade_api as tradeapi\n",
    "%matplotlib inline"
   ]
  },
  {
   "cell_type": "markdown",
   "metadata": {},
   "source": [
    "## Step 1: Create an environment file (`.env`) in the root of the `Unsolved` folder. This file will hold your Alpaca API and secret keys."
   ]
  },
  {
   "cell_type": "markdown",
   "metadata": {},
   "source": [
    "## Step 2: Load the Alpaca API and secret keys into `decisive_probability_distributions.ipynb`, and set the values equal to variables of the same name.\n",
    "\n",
    "* Load the environment variable by calling the `load_dotenv()` function.\n",
    "* Set the value of the variables `alpaca_api_key` and `alpaca_secret_key` equal to their respective environment variables. \n",
    "* Confirm the variables are available by checking the `type` of each. "
   ]
  },
  {
   "cell_type": "code",
   "execution_count": 2,
   "metadata": {},
   "outputs": [
    {
     "data": {
      "text/plain": [
       "True"
      ]
     },
     "execution_count": 2,
     "metadata": {},
     "output_type": "execute_result"
    }
   ],
   "source": [
    "# Load the environment variables by calling the load_dotenv function\n",
    "# YOUR CODE HERE "
   ]
  },
  {
   "cell_type": "code",
   "execution_count": 3,
   "metadata": {},
   "outputs": [
    {
     "data": {
      "text/plain": [
       "str"
      ]
     },
     "metadata": {},
     "output_type": "display_data"
    },
    {
     "data": {
      "text/plain": [
       "str"
      ]
     },
     "metadata": {},
     "output_type": "display_data"
    }
   ],
   "source": [
    "# Set Alpaca API key and secret by calling the os.getenv function and referencing the environment variable names\n",
    "# Set each environment variable to a notebook variable of the same name\n",
    "alpaca_api_key = # YOUR CODE HERE \n",
    "alpaca_secret_key = # YOUR CODE HERE \n",
    "\n",
    "# Check the values were imported correctly by evaluating the type of each\n",
    "display(# YOUR CODE HERE )\n",
    "display(# YOUR CODE HERE )"
   ]
  },
  {
   "cell_type": "markdown",
   "metadata": {},
   "source": [
    "## Step 3: Create the Alpaca API `REST` object by calling the Alpaca `tradeapi.REST` function and setting `alpaca_api_key`, `alpaca_secret_key`, and `api_version`."
   ]
  },
  {
   "cell_type": "code",
   "execution_count": 4,
   "metadata": {
    "tags": []
   },
   "outputs": [],
   "source": [
    "# Create your Alpaca API REST object by calling Alpaca's tradeapi.REST function\n",
    "# Set the parameters to your alpaca_api_key, alpaca_secret_key and api_version=\"v2\" \n",
    "alpaca = # YOUR CODE HERE "
   ]
  },
  {
   "cell_type": "markdown",
   "metadata": {},
   "source": [
    "## Step 4: Use the Alpaca SDK to make an API call that gets one year of daily stock information (from 2019-05-01 to 2020-05-01) for the following stock tickers:\n",
    "\n",
    "* Create the list for the required `tickers`.\n",
    "* Set the values for `start_date` and `end_date` using the `pd.Timestamp` function. The dates should be 2019-05-01 through 2020-05-01.\n",
    "* Set the `timeframe` value to 1 day.\n",
    "* Create the `portfolio_prices_df` DataFrame by setting it equal to the `alpaca.get_bars` function. "
   ]
  },
  {
   "cell_type": "code",
   "execution_count": 5,
   "metadata": {},
   "outputs": [],
   "source": [
    "# Create the list for the required tickers\n",
    "tickers = # YOUR CODE HERE "
   ]
  },
  {
   "cell_type": "code",
   "execution_count": 6,
   "metadata": {},
   "outputs": [],
   "source": [
    "# Set the values for start_date and end_date using the pd.Timestamp function\n",
    "# The start and end data should be 2019-05-01 to 2020-05-01\n",
    "# Set the parameter tz to \"America/New_York\", \n",
    "# Set this all to the ISO format by calling the isoformat function \n",
    "start_date = # YOUR CODE HERE \n",
    "end_date = # YOUR CODE HERE \n"
   ]
  },
  {
   "cell_type": "code",
   "execution_count": 7,
   "metadata": {},
   "outputs": [],
   "source": [
    "# Set timeframe to one day (1Day)\n",
    "# YOUR CODE HERE"
   ]
  },
  {
   "cell_type": "code",
   "execution_count": 8,
   "metadata": {},
   "outputs": [
    {
     "data": {
      "text/html": [
       "<div>\n",
       "<style scoped>\n",
       "    .dataframe tbody tr th:only-of-type {\n",
       "        vertical-align: middle;\n",
       "    }\n",
       "\n",
       "    .dataframe tbody tr th {\n",
       "        vertical-align: top;\n",
       "    }\n",
       "\n",
       "    .dataframe thead tr th {\n",
       "        text-align: left;\n",
       "    }\n",
       "\n",
       "    .dataframe thead tr:last-of-type th {\n",
       "        text-align: right;\n",
       "    }\n",
       "</style>\n",
       "<table border=\"1\" class=\"dataframe\">\n",
       "  <thead>\n",
       "    <tr>\n",
       "      <th></th>\n",
       "      <th colspan=\"7\" halign=\"left\">SPY</th>\n",
       "      <th colspan=\"3\" halign=\"left\">V</th>\n",
       "      <th>...</th>\n",
       "      <th colspan=\"3\" halign=\"left\">SQ</th>\n",
       "      <th colspan=\"7\" halign=\"left\">GS</th>\n",
       "    </tr>\n",
       "    <tr>\n",
       "      <th></th>\n",
       "      <th>open</th>\n",
       "      <th>high</th>\n",
       "      <th>low</th>\n",
       "      <th>close</th>\n",
       "      <th>volume</th>\n",
       "      <th>trade_count</th>\n",
       "      <th>vwap</th>\n",
       "      <th>open</th>\n",
       "      <th>high</th>\n",
       "      <th>low</th>\n",
       "      <th>...</th>\n",
       "      <th>volume</th>\n",
       "      <th>trade_count</th>\n",
       "      <th>vwap</th>\n",
       "      <th>open</th>\n",
       "      <th>high</th>\n",
       "      <th>low</th>\n",
       "      <th>close</th>\n",
       "      <th>volume</th>\n",
       "      <th>trade_count</th>\n",
       "      <th>vwap</th>\n",
       "    </tr>\n",
       "    <tr>\n",
       "      <th>timestamp</th>\n",
       "      <th></th>\n",
       "      <th></th>\n",
       "      <th></th>\n",
       "      <th></th>\n",
       "      <th></th>\n",
       "      <th></th>\n",
       "      <th></th>\n",
       "      <th></th>\n",
       "      <th></th>\n",
       "      <th></th>\n",
       "      <th></th>\n",
       "      <th></th>\n",
       "      <th></th>\n",
       "      <th></th>\n",
       "      <th></th>\n",
       "      <th></th>\n",
       "      <th></th>\n",
       "      <th></th>\n",
       "      <th></th>\n",
       "      <th></th>\n",
       "      <th></th>\n",
       "    </tr>\n",
       "  </thead>\n",
       "  <tbody>\n",
       "    <tr>\n",
       "      <th>2019-05-01 04:00:00+00:00</th>\n",
       "      <td>294.76</td>\n",
       "      <td>294.95</td>\n",
       "      <td>291.8000</td>\n",
       "      <td>291.81</td>\n",
       "      <td>71921870</td>\n",
       "      <td>337374</td>\n",
       "      <td>293.457138</td>\n",
       "      <td>165.54</td>\n",
       "      <td>165.74</td>\n",
       "      <td>162.75</td>\n",
       "      <td>...</td>\n",
       "      <td>15772849</td>\n",
       "      <td>97246</td>\n",
       "      <td>73.158542</td>\n",
       "      <td>206.14</td>\n",
       "      <td>208.4086</td>\n",
       "      <td>204.03</td>\n",
       "      <td>204.73</td>\n",
       "      <td>1981789</td>\n",
       "      <td>25133</td>\n",
       "      <td>205.716265</td>\n",
       "    </tr>\n",
       "    <tr>\n",
       "      <th>2019-05-02 04:00:00+00:00</th>\n",
       "      <td>291.68</td>\n",
       "      <td>292.70</td>\n",
       "      <td>289.5200</td>\n",
       "      <td>291.18</td>\n",
       "      <td>65058183</td>\n",
       "      <td>342564</td>\n",
       "      <td>291.101680</td>\n",
       "      <td>162.10</td>\n",
       "      <td>163.08</td>\n",
       "      <td>160.43</td>\n",
       "      <td>...</td>\n",
       "      <td>34399626</td>\n",
       "      <td>206113</td>\n",
       "      <td>67.838142</td>\n",
       "      <td>204.43</td>\n",
       "      <td>206.2200</td>\n",
       "      <td>203.12</td>\n",
       "      <td>204.99</td>\n",
       "      <td>1514660</td>\n",
       "      <td>20898</td>\n",
       "      <td>204.848131</td>\n",
       "    </tr>\n",
       "    <tr>\n",
       "      <th>2019-05-03 04:00:00+00:00</th>\n",
       "      <td>292.80</td>\n",
       "      <td>294.34</td>\n",
       "      <td>291.2998</td>\n",
       "      <td>294.03</td>\n",
       "      <td>56579556</td>\n",
       "      <td>249557</td>\n",
       "      <td>293.438891</td>\n",
       "      <td>162.30</td>\n",
       "      <td>162.74</td>\n",
       "      <td>161.18</td>\n",
       "      <td>...</td>\n",
       "      <td>9259353</td>\n",
       "      <td>67481</td>\n",
       "      <td>68.213814</td>\n",
       "      <td>206.01</td>\n",
       "      <td>208.7500</td>\n",
       "      <td>205.67</td>\n",
       "      <td>207.52</td>\n",
       "      <td>1897692</td>\n",
       "      <td>24043</td>\n",
       "      <td>207.379014</td>\n",
       "    </tr>\n",
       "    <tr>\n",
       "      <th>2019-05-06 04:00:00+00:00</th>\n",
       "      <td>289.24</td>\n",
       "      <td>293.31</td>\n",
       "      <td>288.9000</td>\n",
       "      <td>292.82</td>\n",
       "      <td>107250892</td>\n",
       "      <td>390959</td>\n",
       "      <td>291.952803</td>\n",
       "      <td>158.50</td>\n",
       "      <td>162.65</td>\n",
       "      <td>158.20</td>\n",
       "      <td>...</td>\n",
       "      <td>13595822</td>\n",
       "      <td>77118</td>\n",
       "      <td>68.837782</td>\n",
       "      <td>202.80</td>\n",
       "      <td>206.9800</td>\n",
       "      <td>201.71</td>\n",
       "      <td>206.43</td>\n",
       "      <td>1927994</td>\n",
       "      <td>23664</td>\n",
       "      <td>204.807924</td>\n",
       "    </tr>\n",
       "    <tr>\n",
       "      <th>2019-05-07 04:00:00+00:00</th>\n",
       "      <td>290.15</td>\n",
       "      <td>290.81</td>\n",
       "      <td>285.8100</td>\n",
       "      <td>287.93</td>\n",
       "      <td>145292657</td>\n",
       "      <td>618594</td>\n",
       "      <td>288.280747</td>\n",
       "      <td>160.91</td>\n",
       "      <td>161.78</td>\n",
       "      <td>158.68</td>\n",
       "      <td>...</td>\n",
       "      <td>10764077</td>\n",
       "      <td>72945</td>\n",
       "      <td>68.344274</td>\n",
       "      <td>203.34</td>\n",
       "      <td>204.0000</td>\n",
       "      <td>201.01</td>\n",
       "      <td>202.63</td>\n",
       "      <td>2839464</td>\n",
       "      <td>32157</td>\n",
       "      <td>202.373376</td>\n",
       "    </tr>\n",
       "  </tbody>\n",
       "</table>\n",
       "<p>5 rows × 28 columns</p>\n",
       "</div>"
      ],
      "text/plain": [
       "                              SPY                                       \\\n",
       "                             open    high       low   close     volume   \n",
       "timestamp                                                                \n",
       "2019-05-01 04:00:00+00:00  294.76  294.95  291.8000  291.81   71921870   \n",
       "2019-05-02 04:00:00+00:00  291.68  292.70  289.5200  291.18   65058183   \n",
       "2019-05-03 04:00:00+00:00  292.80  294.34  291.2998  294.03   56579556   \n",
       "2019-05-06 04:00:00+00:00  289.24  293.31  288.9000  292.82  107250892   \n",
       "2019-05-07 04:00:00+00:00  290.15  290.81  285.8100  287.93  145292657   \n",
       "\n",
       "                                                        V                  \\\n",
       "                          trade_count        vwap    open    high     low   \n",
       "timestamp                                                                   \n",
       "2019-05-01 04:00:00+00:00      337374  293.457138  165.54  165.74  162.75   \n",
       "2019-05-02 04:00:00+00:00      342564  291.101680  162.10  163.08  160.43   \n",
       "2019-05-03 04:00:00+00:00      249557  293.438891  162.30  162.74  161.18   \n",
       "2019-05-06 04:00:00+00:00      390959  291.952803  158.50  162.65  158.20   \n",
       "2019-05-07 04:00:00+00:00      618594  288.280747  160.91  161.78  158.68   \n",
       "\n",
       "                           ...        SQ                             GS  \\\n",
       "                           ...    volume trade_count       vwap    open   \n",
       "timestamp                  ...                                            \n",
       "2019-05-01 04:00:00+00:00  ...  15772849       97246  73.158542  206.14   \n",
       "2019-05-02 04:00:00+00:00  ...  34399626      206113  67.838142  204.43   \n",
       "2019-05-03 04:00:00+00:00  ...   9259353       67481  68.213814  206.01   \n",
       "2019-05-06 04:00:00+00:00  ...  13595822       77118  68.837782  202.80   \n",
       "2019-05-07 04:00:00+00:00  ...  10764077       72945  68.344274  203.34   \n",
       "\n",
       "                                                                          \\\n",
       "                               high     low   close   volume trade_count   \n",
       "timestamp                                                                  \n",
       "2019-05-01 04:00:00+00:00  208.4086  204.03  204.73  1981789       25133   \n",
       "2019-05-02 04:00:00+00:00  206.2200  203.12  204.99  1514660       20898   \n",
       "2019-05-03 04:00:00+00:00  208.7500  205.67  207.52  1897692       24043   \n",
       "2019-05-06 04:00:00+00:00  206.9800  201.71  206.43  1927994       23664   \n",
       "2019-05-07 04:00:00+00:00  204.0000  201.01  202.63  2839464       32157   \n",
       "\n",
       "                                       \n",
       "                                 vwap  \n",
       "timestamp                              \n",
       "2019-05-01 04:00:00+00:00  205.716265  \n",
       "2019-05-02 04:00:00+00:00  204.848131  \n",
       "2019-05-03 04:00:00+00:00  207.379014  \n",
       "2019-05-06 04:00:00+00:00  204.807924  \n",
       "2019-05-07 04:00:00+00:00  202.373376  \n",
       "\n",
       "[5 rows x 28 columns]"
      ]
     },
     "execution_count": 8,
     "metadata": {},
     "output_type": "execute_result"
    }
   ],
   "source": [
    "# Use the Alpaca get_bars function to gather the price information for each ticker\n",
    "# Include the function parameters: tickers, timeframe, start, end, and limit\n",
    "# Be sure to call the df property to ensure that the returned information is set as a DataFrame\n",
    "prices_df = # YOUR CODE HERE\n",
    "\n",
    "# Reorganize the DataFrame\n",
    "# Separate ticker data\n",
    "SPY = prices_df[prices_df['symbol']=='SPY'].drop('symbol', axis=1)\n",
    "V = prices_df[prices_df['symbol']=='V'].drop('symbol', axis=1)\n",
    "SQ = prices_df[prices_df['symbol']=='SQ'].drop('symbol', axis=1)\n",
    "GS = prices_df[prices_df['symbol']=='GS'].drop('symbol', axis=1)\n",
    "\n",
    "# Concatenate the ticker DataFrames\n",
    "prices_df = pd.concat([SPY, V, SQ, GS], axis=1, keys=[\"SPY\", \"V\", \"SQ\", \"GS\"])\n",
    "\n",
    "# Review the first five rows of the resulting DataFrame \n",
    "# YOUR CODE HERE"
   ]
  },
  {
   "cell_type": "markdown",
   "metadata": {},
   "source": [
    "## Step 5: Create a new DataFrame that holds the closing prices of each stock.\n",
    "\n",
    "1. Create a `closing_prices_df` DataFrame.\n",
    "2. Using a for-loop, for every `ticker` in the `tickers` list, select the `close` price for each ticker in the `prices_df` Dataframe. That expression will be set equal to  the new `closing_prices_df` for the same `ticker`.\n",
    "3. For the new closing_prices_df DataFrame, keep only the date component (drop the time component).\n",
    "4. View the `closing_prices_df` DataFrame. "
   ]
  },
  {
   "cell_type": "code",
   "execution_count": 9,
   "metadata": {},
   "outputs": [
    {
     "data": {
      "text/html": [
       "<div>\n",
       "<style scoped>\n",
       "    .dataframe tbody tr th:only-of-type {\n",
       "        vertical-align: middle;\n",
       "    }\n",
       "\n",
       "    .dataframe tbody tr th {\n",
       "        vertical-align: top;\n",
       "    }\n",
       "\n",
       "    .dataframe thead th {\n",
       "        text-align: right;\n",
       "    }\n",
       "</style>\n",
       "<table border=\"1\" class=\"dataframe\">\n",
       "  <thead>\n",
       "    <tr style=\"text-align: right;\">\n",
       "      <th></th>\n",
       "      <th>SPY</th>\n",
       "      <th>V</th>\n",
       "      <th>SQ</th>\n",
       "      <th>GS</th>\n",
       "    </tr>\n",
       "  </thead>\n",
       "  <tbody>\n",
       "    <tr>\n",
       "      <th>2019-05-01</th>\n",
       "      <td>291.81</td>\n",
       "      <td>162.79</td>\n",
       "      <td>73.62</td>\n",
       "      <td>204.73</td>\n",
       "    </tr>\n",
       "    <tr>\n",
       "      <th>2019-05-02</th>\n",
       "      <td>291.18</td>\n",
       "      <td>161.12</td>\n",
       "      <td>67.74</td>\n",
       "      <td>204.99</td>\n",
       "    </tr>\n",
       "    <tr>\n",
       "      <th>2019-05-03</th>\n",
       "      <td>294.03</td>\n",
       "      <td>162.04</td>\n",
       "      <td>68.52</td>\n",
       "      <td>207.52</td>\n",
       "    </tr>\n",
       "    <tr>\n",
       "      <th>2019-05-06</th>\n",
       "      <td>292.82</td>\n",
       "      <td>162.28</td>\n",
       "      <td>70.14</td>\n",
       "      <td>206.43</td>\n",
       "    </tr>\n",
       "    <tr>\n",
       "      <th>2019-05-07</th>\n",
       "      <td>287.93</td>\n",
       "      <td>160.21</td>\n",
       "      <td>68.42</td>\n",
       "      <td>202.63</td>\n",
       "    </tr>\n",
       "  </tbody>\n",
       "</table>\n",
       "</div>"
      ],
      "text/plain": [
       "               SPY       V     SQ      GS\n",
       "2019-05-01  291.81  162.79  73.62  204.73\n",
       "2019-05-02  291.18  161.12  67.74  204.99\n",
       "2019-05-03  294.03  162.04  68.52  207.52\n",
       "2019-05-06  292.82  162.28  70.14  206.43\n",
       "2019-05-07  287.93  160.21  68.42  202.63"
      ]
     },
     "metadata": {},
     "output_type": "display_data"
    },
    {
     "data": {
      "text/html": [
       "<div>\n",
       "<style scoped>\n",
       "    .dataframe tbody tr th:only-of-type {\n",
       "        vertical-align: middle;\n",
       "    }\n",
       "\n",
       "    .dataframe tbody tr th {\n",
       "        vertical-align: top;\n",
       "    }\n",
       "\n",
       "    .dataframe thead th {\n",
       "        text-align: right;\n",
       "    }\n",
       "</style>\n",
       "<table border=\"1\" class=\"dataframe\">\n",
       "  <thead>\n",
       "    <tr style=\"text-align: right;\">\n",
       "      <th></th>\n",
       "      <th>SPY</th>\n",
       "      <th>V</th>\n",
       "      <th>SQ</th>\n",
       "      <th>GS</th>\n",
       "    </tr>\n",
       "  </thead>\n",
       "  <tbody>\n",
       "    <tr>\n",
       "      <th>2020-04-27</th>\n",
       "      <td>287.05</td>\n",
       "      <td>171.76</td>\n",
       "      <td>63.55</td>\n",
       "      <td>183.54</td>\n",
       "    </tr>\n",
       "    <tr>\n",
       "      <th>2020-04-28</th>\n",
       "      <td>285.73</td>\n",
       "      <td>171.25</td>\n",
       "      <td>61.75</td>\n",
       "      <td>187.01</td>\n",
       "    </tr>\n",
       "    <tr>\n",
       "      <th>2020-04-29</th>\n",
       "      <td>293.21</td>\n",
       "      <td>181.79</td>\n",
       "      <td>65.77</td>\n",
       "      <td>190.03</td>\n",
       "    </tr>\n",
       "    <tr>\n",
       "      <th>2020-04-30</th>\n",
       "      <td>290.48</td>\n",
       "      <td>178.72</td>\n",
       "      <td>65.14</td>\n",
       "      <td>183.42</td>\n",
       "    </tr>\n",
       "    <tr>\n",
       "      <th>2020-05-01</th>\n",
       "      <td>282.79</td>\n",
       "      <td>175.57</td>\n",
       "      <td>63.00</td>\n",
       "      <td>177.10</td>\n",
       "    </tr>\n",
       "  </tbody>\n",
       "</table>\n",
       "</div>"
      ],
      "text/plain": [
       "               SPY       V     SQ      GS\n",
       "2020-04-27  287.05  171.76  63.55  183.54\n",
       "2020-04-28  285.73  171.25  61.75  187.01\n",
       "2020-04-29  293.21  181.79  65.77  190.03\n",
       "2020-04-30  290.48  178.72  65.14  183.42\n",
       "2020-05-01  282.79  175.57  63.00  177.10"
      ]
     },
     "metadata": {},
     "output_type": "display_data"
    }
   ],
   "source": [
    "# Create an empty DataFrame for holding the closing prices\n",
    "closing_prices_df = # YOUR CODE HERE \n",
    "\n",
    "# Using a for loop, for every ticker in the tickers list, \n",
    "# Select the close price for each ticker in the prices_df Dataframe\n",
    "# That will be set equal to closing_prices_df for the same ticker value\n",
    "for ticker in tickers:\n",
    "    # YOUR CODE HERE \n",
    "\n",
    "# For the new closing_prices_df DataFrame, keep only the date component\n",
    "closing_prices_df.index = # YOUR CODE HERE \n",
    "\n",
    "# View the first and last five rows of the closing_prices_df DataFrame\n",
    "display(# YOUR CODE HERE)\n",
    "display(# YOUR CODE HERE)"
   ]
  },
  {
   "cell_type": "markdown",
   "metadata": {},
   "source": [
    "## Step 6: Generate a daily returns DataFrame that’s based on the closing prices of each stock."
   ]
  },
  {
   "cell_type": "code",
   "execution_count": 10,
   "metadata": {},
   "outputs": [
    {
     "data": {
      "text/html": [
       "<div>\n",
       "<style scoped>\n",
       "    .dataframe tbody tr th:only-of-type {\n",
       "        vertical-align: middle;\n",
       "    }\n",
       "\n",
       "    .dataframe tbody tr th {\n",
       "        vertical-align: top;\n",
       "    }\n",
       "\n",
       "    .dataframe thead th {\n",
       "        text-align: right;\n",
       "    }\n",
       "</style>\n",
       "<table border=\"1\" class=\"dataframe\">\n",
       "  <thead>\n",
       "    <tr style=\"text-align: right;\">\n",
       "      <th></th>\n",
       "      <th>SPY</th>\n",
       "      <th>V</th>\n",
       "      <th>SQ</th>\n",
       "      <th>GS</th>\n",
       "    </tr>\n",
       "  </thead>\n",
       "  <tbody>\n",
       "    <tr>\n",
       "      <th>2019-05-02</th>\n",
       "      <td>-0.002159</td>\n",
       "      <td>-0.010259</td>\n",
       "      <td>-0.079870</td>\n",
       "      <td>0.001270</td>\n",
       "    </tr>\n",
       "    <tr>\n",
       "      <th>2019-05-03</th>\n",
       "      <td>0.009788</td>\n",
       "      <td>0.005710</td>\n",
       "      <td>0.011515</td>\n",
       "      <td>0.012342</td>\n",
       "    </tr>\n",
       "    <tr>\n",
       "      <th>2019-05-06</th>\n",
       "      <td>-0.004115</td>\n",
       "      <td>0.001481</td>\n",
       "      <td>0.023643</td>\n",
       "      <td>-0.005253</td>\n",
       "    </tr>\n",
       "    <tr>\n",
       "      <th>2019-05-07</th>\n",
       "      <td>-0.016700</td>\n",
       "      <td>-0.012756</td>\n",
       "      <td>-0.024522</td>\n",
       "      <td>-0.018408</td>\n",
       "    </tr>\n",
       "    <tr>\n",
       "      <th>2019-05-08</th>\n",
       "      <td>-0.001389</td>\n",
       "      <td>0.003433</td>\n",
       "      <td>-0.017100</td>\n",
       "      <td>-0.008291</td>\n",
       "    </tr>\n",
       "  </tbody>\n",
       "</table>\n",
       "</div>"
      ],
      "text/plain": [
       "                 SPY         V        SQ        GS\n",
       "2019-05-02 -0.002159 -0.010259 -0.079870  0.001270\n",
       "2019-05-03  0.009788  0.005710  0.011515  0.012342\n",
       "2019-05-06 -0.004115  0.001481  0.023643 -0.005253\n",
       "2019-05-07 -0.016700 -0.012756 -0.024522 -0.018408\n",
       "2019-05-08 -0.001389  0.003433 -0.017100 -0.008291"
      ]
     },
     "metadata": {},
     "output_type": "display_data"
    },
    {
     "data": {
      "text/html": [
       "<div>\n",
       "<style scoped>\n",
       "    .dataframe tbody tr th:only-of-type {\n",
       "        vertical-align: middle;\n",
       "    }\n",
       "\n",
       "    .dataframe tbody tr th {\n",
       "        vertical-align: top;\n",
       "    }\n",
       "\n",
       "    .dataframe thead th {\n",
       "        text-align: right;\n",
       "    }\n",
       "</style>\n",
       "<table border=\"1\" class=\"dataframe\">\n",
       "  <thead>\n",
       "    <tr style=\"text-align: right;\">\n",
       "      <th></th>\n",
       "      <th>SPY</th>\n",
       "      <th>V</th>\n",
       "      <th>SQ</th>\n",
       "      <th>GS</th>\n",
       "    </tr>\n",
       "  </thead>\n",
       "  <tbody>\n",
       "    <tr>\n",
       "      <th>2020-04-27</th>\n",
       "      <td>0.014418</td>\n",
       "      <td>0.026536</td>\n",
       "      <td>0.024835</td>\n",
       "      <td>0.036949</td>\n",
       "    </tr>\n",
       "    <tr>\n",
       "      <th>2020-04-28</th>\n",
       "      <td>-0.004599</td>\n",
       "      <td>-0.002969</td>\n",
       "      <td>-0.028324</td>\n",
       "      <td>0.018906</td>\n",
       "    </tr>\n",
       "    <tr>\n",
       "      <th>2020-04-29</th>\n",
       "      <td>0.026179</td>\n",
       "      <td>0.061547</td>\n",
       "      <td>0.065101</td>\n",
       "      <td>0.016149</td>\n",
       "    </tr>\n",
       "    <tr>\n",
       "      <th>2020-04-30</th>\n",
       "      <td>-0.009311</td>\n",
       "      <td>-0.016888</td>\n",
       "      <td>-0.009579</td>\n",
       "      <td>-0.034784</td>\n",
       "    </tr>\n",
       "    <tr>\n",
       "      <th>2020-05-01</th>\n",
       "      <td>-0.026473</td>\n",
       "      <td>-0.017625</td>\n",
       "      <td>-0.032852</td>\n",
       "      <td>-0.034456</td>\n",
       "    </tr>\n",
       "  </tbody>\n",
       "</table>\n",
       "</div>"
      ],
      "text/plain": [
       "                 SPY         V        SQ        GS\n",
       "2020-04-27  0.014418  0.026536  0.024835  0.036949\n",
       "2020-04-28 -0.004599 -0.002969 -0.028324  0.018906\n",
       "2020-04-29  0.026179  0.061547  0.065101  0.016149\n",
       "2020-04-30 -0.009311 -0.016888 -0.009579 -0.034784\n",
       "2020-05-01 -0.026473 -0.017625 -0.032852 -0.034456"
      ]
     },
     "metadata": {},
     "output_type": "display_data"
    }
   ],
   "source": [
    "# Compute daily returns of the closing_prices_df DataFrame using the pct_change function \n",
    "# Be sure to drop the first row of NaN values\n",
    "daily_returns_df = # YOUR CODE HERE \n",
    "\n",
    "# Review the first and last five rows of the daily_returns_df DataFrame\n",
    "display(# YOUR CODE HERE)\n",
    "display(# YOUR CODE HERE)\n"
   ]
  },
  {
   "cell_type": "markdown",
   "metadata": {},
   "source": [
    "## Step 7: Generate the summary statistics for the daily returns DataFrame. This provides your first review of the distribution information for your stocks."
   ]
  },
  {
   "cell_type": "code",
   "execution_count": 11,
   "metadata": {},
   "outputs": [
    {
     "data": {
      "text/html": [
       "<div>\n",
       "<style scoped>\n",
       "    .dataframe tbody tr th:only-of-type {\n",
       "        vertical-align: middle;\n",
       "    }\n",
       "\n",
       "    .dataframe tbody tr th {\n",
       "        vertical-align: top;\n",
       "    }\n",
       "\n",
       "    .dataframe thead th {\n",
       "        text-align: right;\n",
       "    }\n",
       "</style>\n",
       "<table border=\"1\" class=\"dataframe\">\n",
       "  <thead>\n",
       "    <tr style=\"text-align: right;\">\n",
       "      <th></th>\n",
       "      <th>SPY</th>\n",
       "      <th>V</th>\n",
       "      <th>SQ</th>\n",
       "      <th>GS</th>\n",
       "    </tr>\n",
       "  </thead>\n",
       "  <tbody>\n",
       "    <tr>\n",
       "      <th>count</th>\n",
       "      <td>253.000000</td>\n",
       "      <td>253.000000</td>\n",
       "      <td>253.000000</td>\n",
       "      <td>253.000000</td>\n",
       "    </tr>\n",
       "    <tr>\n",
       "      <th>mean</th>\n",
       "      <td>0.000074</td>\n",
       "      <td>0.000620</td>\n",
       "      <td>0.000242</td>\n",
       "      <td>-0.000156</td>\n",
       "    </tr>\n",
       "    <tr>\n",
       "      <th>std</th>\n",
       "      <td>0.019849</td>\n",
       "      <td>0.025417</td>\n",
       "      <td>0.040574</td>\n",
       "      <td>0.028936</td>\n",
       "    </tr>\n",
       "    <tr>\n",
       "      <th>min</th>\n",
       "      <td>-0.109424</td>\n",
       "      <td>-0.135472</td>\n",
       "      <td>-0.285615</td>\n",
       "      <td>-0.127053</td>\n",
       "    </tr>\n",
       "    <tr>\n",
       "      <th>25%</th>\n",
       "      <td>-0.004377</td>\n",
       "      <td>-0.007360</td>\n",
       "      <td>-0.015913</td>\n",
       "      <td>-0.009066</td>\n",
       "    </tr>\n",
       "    <tr>\n",
       "      <th>50%</th>\n",
       "      <td>0.000599</td>\n",
       "      <td>0.001626</td>\n",
       "      <td>0.002517</td>\n",
       "      <td>0.000566</td>\n",
       "    </tr>\n",
       "    <tr>\n",
       "      <th>75%</th>\n",
       "      <td>0.006779</td>\n",
       "      <td>0.009594</td>\n",
       "      <td>0.016612</td>\n",
       "      <td>0.011213</td>\n",
       "    </tr>\n",
       "    <tr>\n",
       "      <th>max</th>\n",
       "      <td>0.090603</td>\n",
       "      <td>0.138426</td>\n",
       "      <td>0.157461</td>\n",
       "      <td>0.175803</td>\n",
       "    </tr>\n",
       "  </tbody>\n",
       "</table>\n",
       "</div>"
      ],
      "text/plain": [
       "              SPY           V          SQ          GS\n",
       "count  253.000000  253.000000  253.000000  253.000000\n",
       "mean     0.000074    0.000620    0.000242   -0.000156\n",
       "std      0.019849    0.025417    0.040574    0.028936\n",
       "min     -0.109424   -0.135472   -0.285615   -0.127053\n",
       "25%     -0.004377   -0.007360   -0.015913   -0.009066\n",
       "50%      0.000599    0.001626    0.002517    0.000566\n",
       "75%      0.006779    0.009594    0.016612    0.011213\n",
       "max      0.090603    0.138426    0.157461    0.175803"
      ]
     },
     "execution_count": 11,
     "metadata": {},
     "output_type": "execute_result"
    }
   ],
   "source": [
    "# Visualize the distribution of daily returns across all stocks using a histogram plot\n",
    "# Give the plot a title and adjust the figure size\n",
    "# YOUR CODE HERE "
   ]
  },
  {
   "cell_type": "markdown",
   "metadata": {},
   "source": [
    "## Step 8: Visualize the distribution of the daily returns DataFrame by creating a histogram plot and a density plot."
   ]
  },
  {
   "cell_type": "code",
   "execution_count": 12,
   "metadata": {},
   "outputs": [
    {
     "data": {
      "text/plain": [
       "<AxesSubplot:title={'center':'Daily Returns Histogram'}, ylabel='Frequency'>"
      ]
     },
     "execution_count": 12,
     "metadata": {},
     "output_type": "execute_result"
    },
    {
     "data": {
      "image/png": "[encoded data removed]",
      "text/plain": [
       "<Figure size 1080x504 with 1 Axes>"
      ]
     },
     "metadata": {
      "needs_background": "light"
     },
     "output_type": "display_data"
    }
   ],
   "source": [
    "# Visualize the distribution of daily returns across all stocks using a density plot\n",
    "# Give the plot a title and adjust the figure size \n",
    "# YOUR CODE HERE "
   ]
  },
  {
   "cell_type": "code",
   "execution_count": 13,
   "metadata": {},
   "outputs": [
    {
     "data": {
      "text/plain": [
       "<AxesSubplot:title={'center':'Daily Returns Density Plot'}, ylabel='Density'>"
      ]
     },
     "execution_count": 13,
     "metadata": {},
     "output_type": "execute_result"
    },
    {
     "data": {
      "image/png": "[encoded data removed]",
      "text/plain": [
       "<Figure size 1080x504 with 1 Axes>"
      ]
     },
     "metadata": {
      "needs_background": "light"
     },
     "output_type": "display_data"
    }
   ],
   "source": [
    "# Visualize the distribution of daily returns across all stocks using a density plot\n",
    "# Give the plot a title and adjust the figure size \n",
    "daily_returns_df.plot.density(\n",
    "    figsize=(15,7), \n",
    "    title=\"Daily Returns Density Plot\"\n",
    ")"
   ]
  },
  {
   "cell_type": "markdown",
   "metadata": {},
   "source": [
    "## Step 9: Answer the following question. "
   ]
  },
  {
   "cell_type": "markdown",
   "metadata": {},
   "source": [
    "**Question:** Which is the least volatile stock in the group? Which is the most volatile?\n",
    "    \n",
    "**Answer:** # YOUR ANSWER HERE"
   ]
  },
  {
   "cell_type": "markdown",
   "metadata": {},
   "source": [
    "## Step 10: With a 95% confidence level, calculate the downside and upside performance expectations for both SPY and V based on the mean and standard deviation values."
   ]
  },
  {
   "cell_type": "code",
   "execution_count": 14,
   "metadata": {},
   "outputs": [
    {
     "name": "stdout",
     "output_type": "stream",
     "text": [
      "Using a 95% confidence interval, the SPDR S&P 500 ETF Trust could trade down as much as -3.9739%, and up as much as  3.9903%.\n"
     ]
    }
   ],
   "source": [
    "# Based on the daily return summary statistics, access the mean and standard deviation \n",
    "# values for the SPDR S&P 500 ETF Trust (ticker: SPY)\n",
    "# Calculate the upside and downside performance expectations using a 95% confidence interval.\n",
    "# The z-score associated with a 95% confidence interval is 1.96.\n",
    "\n",
    "# Calculate the downside performance expectation:\n",
    "# downside performane = mean - (z-score * standard deviation)\n",
    "downside_SPY = # YOUR CODE HERE \n",
    "\n",
    "# Calculate the upside performance expectation:\n",
    "# upside performane = mean + (z-score * standard deviation)\n",
    "upside_SPY = # YOUR CODE HERE \n",
    "\n",
    "# Print the expected range of SPY's performance\n",
    "# YOUR CODE HERE \n"
   ]
  },
  {
   "cell_type": "code",
   "execution_count": 15,
   "metadata": {},
   "outputs": [
    {
     "name": "stdout",
     "output_type": "stream",
     "text": [
      "Using a 95% confidence interval, Visa could trade down as much as -4.9030%,  and up as much as  5.0276%.\n"
     ]
    }
   ],
   "source": [
    "# Based on the daily return summary statistics, access the mean and standard deviation\n",
    "# values for stock Visa (ticker: V)\n",
    "# Calculate the upside and downside performance expectations using a 95% confidence interval\n",
    "# The z-score associated with a 95% confidence interval is 1.96\n",
    "\n",
    "# Calculate the downside performance expectation:\n",
    "# downside performane = mean - (z-score * standard deviation)\n",
    "downside_V = # YOUR CODE HERE \n",
    "\n",
    "# Calculate the upside performance expectation:\n",
    "# upside performane = mean + (z-score * standard deviation)\n",
    "upside_V = # YOUR CODE HERE \n",
    "\n",
    "# Print the expected range of Visa's performance\n",
    "# YOUR CODE HERE "
   ]
  },
  {
   "cell_type": "markdown",
   "metadata": {},
   "source": [
    "## Step 11: With a 99% level of confidence, calculate the downside and upside performance expectations for both SQ and GS based on the mean and standard deviation values. "
   ]
  },
  {
   "cell_type": "code",
   "execution_count": 16,
   "metadata": {},
   "outputs": [
    {
     "name": "stdout",
     "output_type": "stream",
     "text": [
      "Using a 99% confidence interval, Square, Inc. could trade down as much as -10.4578%, and up as much as  10.5062%.\n"
     ]
    }
   ],
   "source": [
    "# Based on the daily return summary statistics, access the mean and standard deviation \n",
    "# values for Square, Inc. (ticker: SQ). \n",
    "# Calculate the upside and downside performance expectations using a 99% confidence interval.\n",
    "# The z-score associated with a 99% confidence interval is 2.576.\n",
    "\n",
    "# Calculate the downside performance expectation:\n",
    "# downside performane = mean - (z-score * standard deviation)\n",
    "downside_SQ = # YOUR CODE HERE \n",
    "\n",
    "# Calculate the upside performance expectation:\n",
    "# upside performane = mean + (z-score * standard deviation)\n",
    "upside_SQ = # YOUR CODE HERE \n",
    "\n",
    "# Print the expected range of Square, Inc's performance.\n",
    "# YOUR CODE HERE "
   ]
  },
  {
   "cell_type": "code",
   "execution_count": 17,
   "metadata": {},
   "outputs": [
    {
     "name": "stdout",
     "output_type": "stream",
     "text": [
      "Using a 99% confidence interval, Goldman Sachs could trade down as much as -7.4650%, and up as much as  7.4340%.\n"
     ]
    }
   ],
   "source": [
    "# Based on the daily return summary statistics, access the mean and standard deviation \n",
    "# values for Goldman Sachs (ticker: GS). \n",
    "# Calculate the upside and downside performance expectations using a 99% confidence interval.\n",
    "# The z-score associated with a 99% confidence interval is 2.576.\n",
    "\n",
    "# Calculate the downside performance expectation:\n",
    "# downside performane = mean - (z-score * standard deviation)\n",
    "downside_GS = # YOUR CODE HERE \n",
    "\n",
    "# Calculate the upside performance expectation:\n",
    "# upside performane = mean + (z-score * standard deviation)\n",
    "upside_GS = # YOUR CODE HERE \n",
    "\n",
    "# Print the expected range of Goldman Sach's performance.\n",
    "# YOUR CODE HERE "
   ]
  },
  {
   "cell_type": "markdown",
   "metadata": {},
   "source": [
    "## Step 12: Identify the lower and upper performance bounds for the start of each tail for SPY and SQ stocks. Note that the tail risk occurs when the performance measures outside the 99.7% confidence interval."
   ]
  },
  {
   "cell_type": "code",
   "execution_count": 18,
   "metadata": {},
   "outputs": [
    {
     "name": "stdout",
     "output_type": "stream",
     "text": [
      "There is a probability of 0.15% that the SPDR S&P 500 ETF Trust could trade down more than -6.0869%, or that it could trade up more than  6.1033%.\n"
     ]
    }
   ],
   "source": [
    "# Based on the daily return summary statistics, access the mean \n",
    "# and standard deviation values for the SPDR S&P 500 ETF Trust (ticker: SPY)\n",
    "# Identify the lower and upper bounds associated with the tail risk measures\n",
    "# The tail risk occurs when performance measures outside \n",
    "# of the 99.7% confidence interval, or a z-score of 3\n",
    "\n",
    "# Calculate the downside performance expectation:\n",
    "# downside performane = mean - (z-score * standard deviation)\n",
    "downside_tail_SPY = # YOUR CODE HERE \n",
    "\n",
    "# Calculate the upside performance expectation:\n",
    "# upside performane = mean + (z-score * standard deviation)\n",
    "upside_tail_SPY = # YOUR CODE HERE \n",
    "\n",
    "# Print the expected range of the SPY's performance\n",
    "# YOUR CODE HERE "
   ]
  },
  {
   "cell_type": "code",
   "execution_count": 19,
   "metadata": {},
   "outputs": [
    {
     "name": "stdout",
     "output_type": "stream",
     "text": [
      "There is a probability of 0.15% that the Square, Inc. could trade down more than -12.1831%, or that it could trade up more than  12.2315%.\n"
     ]
    }
   ],
   "source": [
    "# Based on the daily return summary statistics, access the mean \n",
    "# and standard deviation values for Square, Inc. (ticker: SQ). \n",
    "# Identify the lower and upper bounds associated with the tail risk measures. \n",
    "# The tail risk occurs when performance measures outside \n",
    "# of the 99.7% confidence interval, or a z-score of 3 \n",
    "\n",
    "# Calculate the downside performance expectation:\n",
    "# downside performane = mean - (z-score * standard deviation)\n",
    "downside_tail_SQ = # YOUR CODE HERE \n",
    "\n",
    "# Calculate the upside performance expectation:\n",
    "# upside performane = mean + (z-score * standard deviation)\n",
    "upside_tail_SQ = # YOUR CODE HERE \n",
    "\n",
    "# Print the expected range of the Square Inc's performance\n",
    "# YOUR CODE HERE "
   ]
  }
 ],
 "metadata": {
  "kernel_info": {
   "name": "python3"
  },
  "kernelspec": {
   "display_name": "Python 3",
   "language": "python",
   "name": "python3"
  },
  "language_info": {
   "codemirror_mode": {
    "name": "ipython",
    "version": 3
   },
   "file_extension": ".py",
   "mimetype": "text/x-python",
   "name": "python",
   "nbconvert_exporter": "python",
   "pygments_lexer": "ipython3",
   "version": "3.7.3"
  },
  "nteract": {
   "version": "0.12.3"
  }
 },
 "nbformat": 4,
 "nbformat_minor": 4
}

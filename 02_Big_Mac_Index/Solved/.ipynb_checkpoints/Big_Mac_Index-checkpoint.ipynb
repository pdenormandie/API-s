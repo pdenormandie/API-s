{
 "cells": [
  {
   "cell_type": "markdown",
   "metadata": {},
   "source": [
    "# Big Mac Index\n",
    "\n",
    "In this activity, you’ll make three API calls to Quandl to find the cost of a Big Mac in three countries.\n",
    " \n",
    "Instructions:\n",
    "\n",
    "1. In the `Unsolved` folder for this activity, create an environment file (`.env`). Enter your QUANDL_API_KEY into this file.\n",
    "\n",
    "2. In the Jupyter notebook, load the environment variables into your environment file by using the `load_dotenv()` function.\n",
    "\n",
    "3. Get the Quandl API key from the environment variables, and store it in a Python variable named `quandl_api_key`. Then confirm that you successfully imported the API key by checking its type with the `type` function.\n",
    "\n",
    "4. Create two variables named `start_date` and `end_date` to define the period that you want to get the Big Mac index for. For this activity, you can set both dates to `2020-07-31`.\n",
    "\n",
    "5. Review the endpoint URLs that the starter notebook supplies. You’ll use these URLs to access the endpoints for the Big Mac index from three countries: the United States, Canada, and Mexico.\n",
    "\n",
    "> **Hint** The Big Mac Index database from Quandl includes data from different countries. Each country's dataset has a Quandl code with the following format:  ECONOMIST/BIGMAC_{COUNTRY}. This activity uses USA, CAN, and MEX for the country codes.\n",
    "\n",
    "6. Make the authenticated API request for each country by using the `request.get` function. Then print the response data by using the `json.dump` function. Analyze the data. Note that all the countries have the same output structure.\n",
    "\n",
    "7. Review the output from the Big Mac Index for the United States. Identify the key-value pairs that define the response object. Determine how to get the `dollar_price` and `dollar_ppp` data elements. Use this information to create a DataFrame with the data of these indicators for the United States, Canada, and Mexico. The following image shows how your DataFrame should appear:\n",
    "\n",
    "8. Use the DataFrame to create a bar chart that compares the `dollar_price` and the `dollar_ppp` of the United States, Canada, and Mexico.\n",
    "\n",
    "\n",
    "Reference:\n",
    "\n",
    "[Python requests function](https://pypi.org/project/requests/2.7.0/)\n",
    "\n",
    "[json.dumps function](https://www.geeksforgeeks.org/json-dumps-in-python/)\n",
    "\n",
    "[Quandl Big Mac Index Docs](https://www.quandl.com/data/ECONOMIST-The-Economist-Big-Mac-Index/documentation)\n",
    "\n",
    "[Quandl Big Mac Index Usage](https://www.quandl.com/data/ECONOMIST-The-Economist-Big-Mac-Index/usage/quickstart/api)\n"
   ]
  },
  {
   "cell_type": "markdown",
   "metadata": {},
   "source": [
    "## Import all required libraries and dependencies"
   ]
  },
  {
   "cell_type": "code",
   "execution_count": 1,
   "metadata": {},
   "outputs": [],
   "source": [
    "# Import required libraries and dependencies\n",
    "\n",
    "import pandas as pd\n",
    "import os\n",
    "import json\n",
    "import requests\n",
    "from dotenv import load_dotenv\n",
    "%matplotlib inline"
   ]
  },
  {
   "cell_type": "markdown",
   "metadata": {},
   "source": [
    "## Step 1: In the `Unsolved` folder for this activity, create an environment file (`.env`). Enter your QUANDL_API_KEY into this file."
   ]
  },
  {
   "cell_type": "markdown",
   "metadata": {},
   "source": [
    "## Step 2: load the environment variables into your environment file by using the `load_dotenv()` function."
   ]
  },
  {
   "cell_type": "code",
   "execution_count": 2,
   "metadata": {},
   "outputs": [
    {
     "name": "stderr",
     "output_type": "stream",
     "text": [
      "Python-dotenv could not parse statement starting at line 2\n",
      "Python-dotenv could not parse statement starting at line 4\n",
      "Python-dotenv could not parse statement starting at line 5\n",
      "Python-dotenv could not parse statement starting at line 6\n",
      "Python-dotenv could not parse statement starting at line 7\n",
      "Python-dotenv could not parse statement starting at line 8\n",
      "Python-dotenv could not parse statement starting at line 9\n",
      "Python-dotenv could not parse statement starting at line 10\n",
      "Python-dotenv could not parse statement starting at line 11\n",
      "Python-dotenv could not parse statement starting at line 15\n",
      "Python-dotenv could not parse statement starting at line 16\n",
      "Python-dotenv could not parse statement starting at line 17\n",
      "Python-dotenv could not parse statement starting at line 18\n",
      "Python-dotenv could not parse statement starting at line 19\n",
      "Python-dotenv could not parse statement starting at line 20\n",
      "Python-dotenv could not parse statement starting at line 25\n",
      "Python-dotenv could not parse statement starting at line 26\n",
      "Python-dotenv could not parse statement starting at line 27\n",
      "Python-dotenv could not parse statement starting at line 28\n",
      "Python-dotenv could not parse statement starting at line 29\n",
      "Python-dotenv could not parse statement starting at line 30\n",
      "Python-dotenv could not parse statement starting at line 35\n",
      "Python-dotenv could not parse statement starting at line 36\n",
      "Python-dotenv could not parse statement starting at line 37\n",
      "Python-dotenv could not parse statement starting at line 38\n",
      "Python-dotenv could not parse statement starting at line 39\n",
      "Python-dotenv could not parse statement starting at line 40\n",
      "Python-dotenv could not parse statement starting at line 45\n",
      "Python-dotenv could not parse statement starting at line 46\n",
      "Python-dotenv could not parse statement starting at line 47\n",
      "Python-dotenv could not parse statement starting at line 48\n",
      "Python-dotenv could not parse statement starting at line 49\n",
      "Python-dotenv could not parse statement starting at line 50\n",
      "Python-dotenv could not parse statement starting at line 53\n",
      "Python-dotenv could not parse statement starting at line 54\n",
      "Python-dotenv could not parse statement starting at line 55\n",
      "Python-dotenv could not parse statement starting at line 56\n",
      "Python-dotenv could not parse statement starting at line 57\n",
      "Python-dotenv could not parse statement starting at line 59\n",
      "Python-dotenv could not parse statement starting at line 60\n",
      "Python-dotenv could not parse statement starting at line 61\n",
      "Python-dotenv could not parse statement starting at line 62\n",
      "Python-dotenv could not parse statement starting at line 64\n",
      "Python-dotenv could not parse statement starting at line 65\n",
      "Python-dotenv could not parse statement starting at line 66\n",
      "Python-dotenv could not parse statement starting at line 67\n",
      "Python-dotenv could not parse statement starting at line 68\n",
      "Python-dotenv could not parse statement starting at line 69\n",
      "Python-dotenv could not parse statement starting at line 72\n",
      "Python-dotenv could not parse statement starting at line 73\n"
     ]
    },
    {
     "data": {
      "text/plain": [
       "True"
      ]
     },
     "execution_count": 2,
     "metadata": {},
     "output_type": "execute_result"
    }
   ],
   "source": [
    "# Load .env enviroment variables into the notebook\n",
    "load_dotenv()"
   ]
  },
  {
   "cell_type": "markdown",
   "metadata": {},
   "source": [
    "## Step 3: Get the Quandl API key from the environment variables, and store it in a Python variable named `quandl_api_key`. Then confirm that you successfully imported the API key by checking its type with the `type` function."
   ]
  },
  {
   "cell_type": "code",
   "execution_count": 3,
   "metadata": {},
   "outputs": [
    {
     "data": {
      "text/plain": [
       "NoneType"
      ]
     },
     "execution_count": 3,
     "metadata": {},
     "output_type": "execute_result"
    }
   ],
   "source": [
    "# Get the API key from the environment variable and store as Python variable\n",
    "quandl_api_key = os.getenv(\"QUANDL_API_KEY\")\n",
    "\n",
    "# Using the type funcion, confirm that the Quandl API key is available for use in the notebook\n",
    "type(quandl_api_key)"
   ]
  },
  {
   "cell_type": "markdown",
   "metadata": {},
   "source": [
    "## Step 4: Create two variables named `start_date` and `end_date` to define the period that you want to get the Big Mac index for. For this activity, you can set both dates to `2020-07-31`."
   ]
  },
  {
   "cell_type": "code",
   "execution_count": 4,
   "metadata": {},
   "outputs": [],
   "source": [
    "# Create `start_date` and `end_date` variables\n",
    "# Both should hold the same date of `2020-07-31`\n",
    "start_date = '2020-07-31'\n",
    "end_date = '2020-07-31'"
   ]
  },
  {
   "cell_type": "markdown",
   "metadata": {},
   "source": [
    "## Step 5: Review the endpoint URLs that the starter notebook supplies. You’ll use these URLs to access the endpoints for the Big Mac index from three countries: the United States, Canada, and Mexico."
   ]
  },
  {
   "cell_type": "code",
   "execution_count": 5,
   "metadata": {},
   "outputs": [
    {
     "ename": "TypeError",
     "evalue": "can only concatenate str (not \"NoneType\") to str",
     "output_type": "error",
     "traceback": [
      "\u001b[0;31m---------------------------------------------------------------------------\u001b[0m",
      "\u001b[0;31mTypeError\u001b[0m                                 Traceback (most recent call last)",
      "\u001b[0;32m/var/folders/8_/m4hvzw7s2g5g2hkh5nlr3x900000gn/T/ipykernel_15336/3312141086.py\u001b[0m in \u001b[0;36m<module>\u001b[0;34m\u001b[0m\n\u001b[0;32m----> 1\u001b[0;31m \u001b[0mbig_mac_usa\u001b[0m \u001b[0;34m=\u001b[0m \u001b[0;34m\"https://www.quandl.com/api/v3/datasets/ECONOMIST/BIGMAC_USA?start_date=\"\u001b[0m \u001b[0;34m+\u001b[0m \u001b[0mstart_date\u001b[0m \u001b[0;34m+\u001b[0m \u001b[0;34m\"&end_date=\"\u001b[0m \u001b[0;34m+\u001b[0m \u001b[0mend_date\u001b[0m \u001b[0;34m+\u001b[0m \u001b[0;34m\"&api_key=\"\u001b[0m \u001b[0;34m+\u001b[0m \u001b[0mquandl_api_key\u001b[0m\u001b[0;34m\u001b[0m\u001b[0;34m\u001b[0m\u001b[0m\n\u001b[0m\u001b[1;32m      2\u001b[0m \u001b[0;34m\u001b[0m\u001b[0m\n\u001b[1;32m      3\u001b[0m \u001b[0mbig_mac_can\u001b[0m \u001b[0;34m=\u001b[0m \u001b[0;34m\"https://www.quandl.com/api/v3/datasets/ECONOMIST/BIGMAC_CAN?start_date=\"\u001b[0m \u001b[0;34m+\u001b[0m \u001b[0mstart_date\u001b[0m \u001b[0;34m+\u001b[0m \u001b[0;34m\"&end_date=\"\u001b[0m \u001b[0;34m+\u001b[0m \u001b[0mend_date\u001b[0m \u001b[0;34m+\u001b[0m \u001b[0;34m\"&api_key=\"\u001b[0m \u001b[0;34m+\u001b[0m \u001b[0mquandl_api_key\u001b[0m\u001b[0;34m\u001b[0m\u001b[0;34m\u001b[0m\u001b[0m\n\u001b[1;32m      4\u001b[0m \u001b[0;34m\u001b[0m\u001b[0m\n\u001b[1;32m      5\u001b[0m \u001b[0mbig_mac_mex\u001b[0m \u001b[0;34m=\u001b[0m \u001b[0;34m\"https://www.quandl.com/api/v3/datasets/ECONOMIST/BIGMAC_MEX?start_date=\"\u001b[0m \u001b[0;34m+\u001b[0m \u001b[0mstart_date\u001b[0m \u001b[0;34m+\u001b[0m \u001b[0;34m\"&end_date=\"\u001b[0m \u001b[0;34m+\u001b[0m \u001b[0mend_date\u001b[0m \u001b[0;34m+\u001b[0m \u001b[0;34m\"&api_key=\"\u001b[0m \u001b[0;34m+\u001b[0m \u001b[0mquandl_api_key\u001b[0m\u001b[0;34m\u001b[0m\u001b[0;34m\u001b[0m\u001b[0m\n",
      "\u001b[0;31mTypeError\u001b[0m: can only concatenate str (not \"NoneType\") to str"
     ]
    }
   ],
   "source": [
    "big_mac_usa = \"https://www.quandl.com/api/v3/datasets/ECONOMIST/BIGMAC_USA?start_date=\" + start_date + \"&end_date=\" + end_date + \"&api_key=\" + quandl_api_key\n",
    "    \n",
    "big_mac_can = \"https://www.quandl.com/api/v3/datasets/ECONOMIST/BIGMAC_CAN?start_date=\" + start_date + \"&end_date=\" + end_date + \"&api_key=\" + quandl_api_key\n",
    "\n",
    "big_mac_mex = \"https://www.quandl.com/api/v3/datasets/ECONOMIST/BIGMAC_MEX?start_date=\" + start_date + \"&end_date=\" + end_date + \"&api_key=\" + quandl_api_key"
   ]
  },
  {
   "cell_type": "markdown",
   "metadata": {},
   "source": [
    "## Step 6: Make the authenticated API request for each country by using the `request.get` function. Then print the response data by using the `json.dumps` function. Analyze the data. Note that all the countries have the same output structure."
   ]
  },
  {
   "cell_type": "code",
   "execution_count": null,
   "metadata": {},
   "outputs": [],
   "source": [
    "# Make the API call for the USD Big Mac Index information using requests.get\n",
    "response_usa= requests.get(big_mac_usa).json()\n",
    "\n",
    "# Print the response data using the json.dumps function.\n",
    "print(json.dumps(response_usa, indent=2, sort_keys=True))"
   ]
  },
  {
   "cell_type": "code",
   "execution_count": null,
   "metadata": {},
   "outputs": [],
   "source": [
    "# Make the API call for the CAN Big Mac Index information using requests.get\n",
    "response_can = requests.get(big_mac_can).json()\n",
    "\n",
    "# Print the response data using the json.dumps function.\n",
    "print(json.dumps(response_can, indent=2, sort_keys=True))"
   ]
  },
  {
   "cell_type": "code",
   "execution_count": null,
   "metadata": {},
   "outputs": [],
   "source": [
    "# Make the API call for the MEX Big Mac Index information using requests.get\n",
    "response_mex = requests.get(big_mac_mex).json()\n",
    "\n",
    "\n",
    "# Print the response data using the json.dumps function.\n",
    "print(json.dumps(response_mex, indent=2, sort_keys=True))"
   ]
  },
  {
   "cell_type": "markdown",
   "metadata": {},
   "source": [
    "## Step 7: Review the output from the Big Mac Index for the United States. Identify the key-value pairs that define the response object. Determine how to get the `dollar_price` and `dollar_ppp` data elements. Use this information to create a DataFrame with the data of these indicators for the United States, Canada, and Mexico. "
   ]
  },
  {
   "cell_type": "code",
   "execution_count": null,
   "metadata": {},
   "outputs": [],
   "source": [
    "# Set the Big Mac Index data to create a DataFrame\n",
    "big_mac_index_data = {\n",
    "    \"dollar_price\": [\n",
    "        response_usa[\"dataset\"][\"data\"][0][3],\n",
    "        response_can[\"dataset\"][\"data\"][0][3],\n",
    "        response_mex[\"dataset\"][\"data\"][0][3]\n",
    "    ],\n",
    "    \"dollar_ppp\": [\n",
    "        response_usa[\"dataset\"][\"data\"][0][4],\n",
    "        response_can[\"dataset\"][\"data\"][0][4],\n",
    "        response_mex[\"dataset\"][\"data\"][0][4]\n",
    "    ]\n",
    "}\n",
    "\n",
    "# Create the Big Mac Index DataFrame\n",
    "big_mac_index_df = pd.DataFrame(big_mac_index_data, index=[\"USA\", \"Canada\", \"Mexico\"])\n",
    "\n",
    "# Diplay the DataFrame data\n",
    "big_mac_index_df"
   ]
  },
  {
   "cell_type": "markdown",
   "metadata": {},
   "source": [
    "### Step 8: Use the DataFrame to create a bar chart that compares the `dollar_price` and the `dollar_ppp` of the United States, Canada, and Mexico."
   ]
  },
  {
   "cell_type": "code",
   "execution_count": null,
   "metadata": {},
   "outputs": [],
   "source": [
    "# Create a bar chart to analyze the Big Mac Index for the United States, \n",
    "# Canada and Mexico\n",
    "# Be sure to include a title and adjust the figure size.\n",
    "big_mac_index_df.plot.bar(figsize=(10,7), title=\"Big Mac Index - USA, Canada & Mexico\")"
   ]
  },
  {
   "cell_type": "code",
   "execution_count": null,
   "metadata": {},
   "outputs": [],
   "source": []
  }
 ],
 "metadata": {
  "kernelspec": {
   "display_name": "dev",
   "language": "python",
   "name": "dev"
  },
  "language_info": {
   "codemirror_mode": {
    "name": "ipython",
    "version": 3
   },
   "file_extension": ".py",
   "mimetype": "text/x-python",
   "name": "python",
   "nbconvert_exporter": "python",
   "pygments_lexer": "ipython3",
   "version": "3.7.11"
  }
 },
 "nbformat": 4,
 "nbformat_minor": 4
}
